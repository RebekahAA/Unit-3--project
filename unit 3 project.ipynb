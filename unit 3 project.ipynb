{
 "cells": [
  {
   "cell_type": "code",
   "execution_count": 1,
   "id": "ad07ef74",
   "metadata": {},
   "outputs": [],
   "source": [
    "#Environment set-up\n",
    "import pandas as pd\n",
    "import matplotlib.pyplot as plot\n",
    "import seaborn as sns\n",
    "%matplotlib inline\n"
   ]
  },
  {
   "cell_type": "code",
   "execution_count": 2,
   "id": "46cf7e06",
   "metadata": {},
   "outputs": [],
   "source": [
    "df = pd.read_csv('https://raw.githubusercontent.com/nytimes/covid-19-data/master/us-counties.csv')"
   ]
  },
  {
   "cell_type": "code",
   "execution_count": 3,
   "id": "278d8222",
   "metadata": {},
   "outputs": [
    {
     "name": "stdout",
     "output_type": "stream",
     "text": [
      "COVID 19 Data Analysis\n",
      "\n",
      "\n",
      "The data set contains 1644430 rows and 6 columns:\n",
      "\n",
      "<class 'pandas.core.frame.DataFrame'>\n",
      "RangeIndex: 1647680 entries, 0 to 1647679\n",
      "Data columns (total 6 columns):\n",
      " #   Column  Non-Null Count    Dtype  \n",
      "---  ------  --------------    -----  \n",
      " 0   date    1647680 non-null  object \n",
      " 1   county  1647680 non-null  object \n",
      " 2   state   1647680 non-null  object \n",
      " 3   fips    1632701 non-null  float64\n",
      " 4   cases   1647680 non-null  int64  \n",
      " 5   deaths  1610589 non-null  float64\n",
      "dtypes: float64(2), int64(1), object(3)\n",
      "memory usage: 75.4+ MB\n"
     ]
    },
    {
     "data": {
      "text/html": [
       "<div>\n",
       "<style scoped>\n",
       "    .dataframe tbody tr th:only-of-type {\n",
       "        vertical-align: middle;\n",
       "    }\n",
       "\n",
       "    .dataframe tbody tr th {\n",
       "        vertical-align: top;\n",
       "    }\n",
       "\n",
       "    .dataframe thead th {\n",
       "        text-align: right;\n",
       "    }\n",
       "</style>\n",
       "<table border=\"1\" class=\"dataframe\">\n",
       "  <thead>\n",
       "    <tr style=\"text-align: right;\">\n",
       "      <th></th>\n",
       "      <th>date</th>\n",
       "      <th>county</th>\n",
       "      <th>state</th>\n",
       "      <th>fips</th>\n",
       "      <th>cases</th>\n",
       "      <th>deaths</th>\n",
       "    </tr>\n",
       "  </thead>\n",
       "  <tbody>\n",
       "    <tr>\n",
       "      <th>0</th>\n",
       "      <td>2020-01-21</td>\n",
       "      <td>Snohomish</td>\n",
       "      <td>Washington</td>\n",
       "      <td>53061.0</td>\n",
       "      <td>1</td>\n",
       "      <td>0.0</td>\n",
       "    </tr>\n",
       "    <tr>\n",
       "      <th>1</th>\n",
       "      <td>2020-01-22</td>\n",
       "      <td>Snohomish</td>\n",
       "      <td>Washington</td>\n",
       "      <td>53061.0</td>\n",
       "      <td>1</td>\n",
       "      <td>0.0</td>\n",
       "    </tr>\n",
       "    <tr>\n",
       "      <th>2</th>\n",
       "      <td>2020-01-23</td>\n",
       "      <td>Snohomish</td>\n",
       "      <td>Washington</td>\n",
       "      <td>53061.0</td>\n",
       "      <td>1</td>\n",
       "      <td>0.0</td>\n",
       "    </tr>\n",
       "    <tr>\n",
       "      <th>3</th>\n",
       "      <td>2020-01-24</td>\n",
       "      <td>Cook</td>\n",
       "      <td>Illinois</td>\n",
       "      <td>17031.0</td>\n",
       "      <td>1</td>\n",
       "      <td>0.0</td>\n",
       "    </tr>\n",
       "    <tr>\n",
       "      <th>4</th>\n",
       "      <td>2020-01-24</td>\n",
       "      <td>Snohomish</td>\n",
       "      <td>Washington</td>\n",
       "      <td>53061.0</td>\n",
       "      <td>1</td>\n",
       "      <td>0.0</td>\n",
       "    </tr>\n",
       "    <tr>\n",
       "      <th>5</th>\n",
       "      <td>2020-01-25</td>\n",
       "      <td>Orange</td>\n",
       "      <td>California</td>\n",
       "      <td>6059.0</td>\n",
       "      <td>1</td>\n",
       "      <td>0.0</td>\n",
       "    </tr>\n",
       "  </tbody>\n",
       "</table>\n",
       "</div>"
      ],
      "text/plain": [
       "         date     county       state     fips  cases  deaths\n",
       "0  2020-01-21  Snohomish  Washington  53061.0      1     0.0\n",
       "1  2020-01-22  Snohomish  Washington  53061.0      1     0.0\n",
       "2  2020-01-23  Snohomish  Washington  53061.0      1     0.0\n",
       "3  2020-01-24       Cook    Illinois  17031.0      1     0.0\n",
       "4  2020-01-24  Snohomish  Washington  53061.0      1     0.0\n",
       "5  2020-01-25     Orange  California   6059.0      1     0.0"
      ]
     },
     "execution_count": 3,
     "metadata": {},
     "output_type": "execute_result"
    }
   ],
   "source": [
    "print('COVID 19 Data Analysis\\n')\n",
    "\n",
    "print('\\nThe data set contains 1644430 rows and 6 columns:\\n')\n",
    "\n",
    "df.info()\n",
    "df.head(6)"
   ]
  },
  {
   "cell_type": "code",
   "execution_count": 4,
   "id": "0bcbc809",
   "metadata": {},
   "outputs": [
    {
     "data": {
      "text/html": [
       "<div>\n",
       "<style scoped>\n",
       "    .dataframe tbody tr th:only-of-type {\n",
       "        vertical-align: middle;\n",
       "    }\n",
       "\n",
       "    .dataframe tbody tr th {\n",
       "        vertical-align: top;\n",
       "    }\n",
       "\n",
       "    .dataframe thead th {\n",
       "        text-align: right;\n",
       "    }\n",
       "</style>\n",
       "<table border=\"1\" class=\"dataframe\">\n",
       "  <thead>\n",
       "    <tr style=\"text-align: right;\">\n",
       "      <th></th>\n",
       "      <th>date</th>\n",
       "      <th>county</th>\n",
       "      <th>state</th>\n",
       "      <th>cases</th>\n",
       "      <th>deaths</th>\n",
       "    </tr>\n",
       "  </thead>\n",
       "  <tbody>\n",
       "    <tr>\n",
       "      <th>0</th>\n",
       "      <td>2020-01-21</td>\n",
       "      <td>Snohomish</td>\n",
       "      <td>Washington</td>\n",
       "      <td>1</td>\n",
       "      <td>0.0</td>\n",
       "    </tr>\n",
       "    <tr>\n",
       "      <th>1</th>\n",
       "      <td>2020-01-22</td>\n",
       "      <td>Snohomish</td>\n",
       "      <td>Washington</td>\n",
       "      <td>1</td>\n",
       "      <td>0.0</td>\n",
       "    </tr>\n",
       "    <tr>\n",
       "      <th>2</th>\n",
       "      <td>2020-01-23</td>\n",
       "      <td>Snohomish</td>\n",
       "      <td>Washington</td>\n",
       "      <td>1</td>\n",
       "      <td>0.0</td>\n",
       "    </tr>\n",
       "    <tr>\n",
       "      <th>3</th>\n",
       "      <td>2020-01-24</td>\n",
       "      <td>Cook</td>\n",
       "      <td>Illinois</td>\n",
       "      <td>1</td>\n",
       "      <td>0.0</td>\n",
       "    </tr>\n",
       "    <tr>\n",
       "      <th>4</th>\n",
       "      <td>2020-01-24</td>\n",
       "      <td>Snohomish</td>\n",
       "      <td>Washington</td>\n",
       "      <td>1</td>\n",
       "      <td>0.0</td>\n",
       "    </tr>\n",
       "    <tr>\n",
       "      <th>5</th>\n",
       "      <td>2020-01-25</td>\n",
       "      <td>Orange</td>\n",
       "      <td>California</td>\n",
       "      <td>1</td>\n",
       "      <td>0.0</td>\n",
       "    </tr>\n",
       "  </tbody>\n",
       "</table>\n",
       "</div>"
      ],
      "text/plain": [
       "         date     county       state  cases  deaths\n",
       "0  2020-01-21  Snohomish  Washington      1     0.0\n",
       "1  2020-01-22  Snohomish  Washington      1     0.0\n",
       "2  2020-01-23  Snohomish  Washington      1     0.0\n",
       "3  2020-01-24       Cook    Illinois      1     0.0\n",
       "4  2020-01-24  Snohomish  Washington      1     0.0\n",
       "5  2020-01-25     Orange  California      1     0.0"
      ]
     },
     "execution_count": 4,
     "metadata": {},
     "output_type": "execute_result"
    }
   ],
   "source": [
    "#Removed columns \"fips\".\n",
    "\n",
    "df.drop(['fips'], inplace=True, axis=1)\n",
    "df.head(6)"
   ]
  },
  {
   "cell_type": "code",
   "execution_count": 5,
   "id": "8d36a397",
   "metadata": {},
   "outputs": [
    {
     "data": {
      "text/plain": [
       "<AxesSubplot:>"
      ]
     },
     "execution_count": 5,
     "metadata": {},
     "output_type": "execute_result"
    },
    {
     "data": {
      "image/png": "[encoded data removed]",
      "text/plain": [
       "<Figure size 1440x720 with 1 Axes>"
      ]
     },
     "metadata": {
      "needs_background": "light"
     },
     "output_type": "display_data"
    }
   ],
   "source": [
    "#Bar chart for first 30 states.\n",
    "\n",
    "df['state'].value_counts().head(30).plot(kind='barh', figsize=(20,10))"
   ]
  },
  {
   "cell_type": "code",
   "execution_count": 6,
   "id": "fed5001b",
   "metadata": {},
   "outputs": [],
   "source": [
    "#30 day's of data for selected states\"Texas\" and \"New York\":\n",
    "\n",
    "df = df[(df['date'] > '2021-07-25') & (df['date'] <= '2021-08-23')]\n"
   ]
  },
  {
   "cell_type": "code",
   "execution_count": 7,
   "id": "8b6a23d0",
   "metadata": {},
   "outputs": [
    {
     "data": {
      "text/html": [
       "<div>\n",
       "<style scoped>\n",
       "    .dataframe tbody tr th:only-of-type {\n",
       "        vertical-align: middle;\n",
       "    }\n",
       "\n",
       "    .dataframe tbody tr th {\n",
       "        vertical-align: top;\n",
       "    }\n",
       "\n",
       "    .dataframe thead th {\n",
       "        text-align: right;\n",
       "    }\n",
       "</style>\n",
       "<table border=\"1\" class=\"dataframe\">\n",
       "  <thead>\n",
       "    <tr style=\"text-align: right;\">\n",
       "      <th></th>\n",
       "      <th>date</th>\n",
       "      <th>county</th>\n",
       "      <th>state</th>\n",
       "      <th>cases</th>\n",
       "      <th>deaths</th>\n",
       "    </tr>\n",
       "  </thead>\n",
       "  <tbody>\n",
       "    <tr>\n",
       "      <th>1556098</th>\n",
       "      <td>2021-07-26</td>\n",
       "      <td>Anderson</td>\n",
       "      <td>Texas</td>\n",
       "      <td>6212</td>\n",
       "      <td>133.0</td>\n",
       "    </tr>\n",
       "    <tr>\n",
       "      <th>1556099</th>\n",
       "      <td>2021-07-26</td>\n",
       "      <td>Andrews</td>\n",
       "      <td>Texas</td>\n",
       "      <td>1866</td>\n",
       "      <td>47.0</td>\n",
       "    </tr>\n",
       "    <tr>\n",
       "      <th>1556100</th>\n",
       "      <td>2021-07-26</td>\n",
       "      <td>Angelina</td>\n",
       "      <td>Texas</td>\n",
       "      <td>8943</td>\n",
       "      <td>288.0</td>\n",
       "    </tr>\n",
       "    <tr>\n",
       "      <th>1556101</th>\n",
       "      <td>2021-07-26</td>\n",
       "      <td>Aransas</td>\n",
       "      <td>Texas</td>\n",
       "      <td>1410</td>\n",
       "      <td>43.0</td>\n",
       "    </tr>\n",
       "    <tr>\n",
       "      <th>1556102</th>\n",
       "      <td>2021-07-26</td>\n",
       "      <td>Archer</td>\n",
       "      <td>Texas</td>\n",
       "      <td>820</td>\n",
       "      <td>12.0</td>\n",
       "    </tr>\n",
       "    <tr>\n",
       "      <th>...</th>\n",
       "      <td>...</td>\n",
       "      <td>...</td>\n",
       "      <td>...</td>\n",
       "      <td>...</td>\n",
       "      <td>...</td>\n",
       "    </tr>\n",
       "    <tr>\n",
       "      <th>1647304</th>\n",
       "      <td>2021-08-23</td>\n",
       "      <td>Wood</td>\n",
       "      <td>Texas</td>\n",
       "      <td>4256</td>\n",
       "      <td>137.0</td>\n",
       "    </tr>\n",
       "    <tr>\n",
       "      <th>1647305</th>\n",
       "      <td>2021-08-23</td>\n",
       "      <td>Yoakum</td>\n",
       "      <td>Texas</td>\n",
       "      <td>987</td>\n",
       "      <td>29.0</td>\n",
       "    </tr>\n",
       "    <tr>\n",
       "      <th>1647306</th>\n",
       "      <td>2021-08-23</td>\n",
       "      <td>Young</td>\n",
       "      <td>Texas</td>\n",
       "      <td>2347</td>\n",
       "      <td>46.0</td>\n",
       "    </tr>\n",
       "    <tr>\n",
       "      <th>1647307</th>\n",
       "      <td>2021-08-23</td>\n",
       "      <td>Zapata</td>\n",
       "      <td>Texas</td>\n",
       "      <td>1932</td>\n",
       "      <td>38.0</td>\n",
       "    </tr>\n",
       "    <tr>\n",
       "      <th>1647308</th>\n",
       "      <td>2021-08-23</td>\n",
       "      <td>Zavala</td>\n",
       "      <td>Texas</td>\n",
       "      <td>2113</td>\n",
       "      <td>46.0</td>\n",
       "    </tr>\n",
       "  </tbody>\n",
       "</table>\n",
       "<p>7366 rows × 5 columns</p>\n",
       "</div>"
      ],
      "text/plain": [
       "               date    county  state  cases  deaths\n",
       "1556098  2021-07-26  Anderson  Texas   6212   133.0\n",
       "1556099  2021-07-26   Andrews  Texas   1866    47.0\n",
       "1556100  2021-07-26  Angelina  Texas   8943   288.0\n",
       "1556101  2021-07-26   Aransas  Texas   1410    43.0\n",
       "1556102  2021-07-26    Archer  Texas    820    12.0\n",
       "...             ...       ...    ...    ...     ...\n",
       "1647304  2021-08-23      Wood  Texas   4256   137.0\n",
       "1647305  2021-08-23    Yoakum  Texas    987    29.0\n",
       "1647306  2021-08-23     Young  Texas   2347    46.0\n",
       "1647307  2021-08-23    Zapata  Texas   1932    38.0\n",
       "1647308  2021-08-23    Zavala  Texas   2113    46.0\n",
       "\n",
       "[7366 rows x 5 columns]"
      ]
     },
     "execution_count": 7,
     "metadata": {},
     "output_type": "execute_result"
    }
   ],
   "source": [
    "df.loc[df['state'] == 'Texas']"
   ]
  },
  {
   "cell_type": "code",
   "execution_count": 8,
   "id": "3276a13a",
   "metadata": {},
   "outputs": [
    {
     "data": {
      "text/html": [
       "<div>\n",
       "<style scoped>\n",
       "    .dataframe tbody tr th:only-of-type {\n",
       "        vertical-align: middle;\n",
       "    }\n",
       "\n",
       "    .dataframe tbody tr th {\n",
       "        vertical-align: top;\n",
       "    }\n",
       "\n",
       "    .dataframe thead th {\n",
       "        text-align: right;\n",
       "    }\n",
       "</style>\n",
       "<table border=\"1\" class=\"dataframe\">\n",
       "  <thead>\n",
       "    <tr style=\"text-align: right;\">\n",
       "      <th></th>\n",
       "      <th>date</th>\n",
       "      <th>county</th>\n",
       "      <th>state</th>\n",
       "      <th>cases</th>\n",
       "      <th>deaths</th>\n",
       "    </tr>\n",
       "  </thead>\n",
       "  <tbody>\n",
       "    <tr>\n",
       "      <th>1555320</th>\n",
       "      <td>2021-07-26</td>\n",
       "      <td>Albany</td>\n",
       "      <td>New York</td>\n",
       "      <td>24924</td>\n",
       "      <td>358.0</td>\n",
       "    </tr>\n",
       "    <tr>\n",
       "      <th>1555321</th>\n",
       "      <td>2021-07-26</td>\n",
       "      <td>Allegany</td>\n",
       "      <td>New York</td>\n",
       "      <td>3576</td>\n",
       "      <td>87.0</td>\n",
       "    </tr>\n",
       "    <tr>\n",
       "      <th>1555322</th>\n",
       "      <td>2021-07-26</td>\n",
       "      <td>Broome</td>\n",
       "      <td>New York</td>\n",
       "      <td>18755</td>\n",
       "      <td>367.0</td>\n",
       "    </tr>\n",
       "    <tr>\n",
       "      <th>1555323</th>\n",
       "      <td>2021-07-26</td>\n",
       "      <td>Cattaraugus</td>\n",
       "      <td>New York</td>\n",
       "      <td>5766</td>\n",
       "      <td>93.0</td>\n",
       "    </tr>\n",
       "    <tr>\n",
       "      <th>1555324</th>\n",
       "      <td>2021-07-26</td>\n",
       "      <td>Cayuga</td>\n",
       "      <td>New York</td>\n",
       "      <td>6396</td>\n",
       "      <td>92.0</td>\n",
       "    </tr>\n",
       "    <tr>\n",
       "      <th>...</th>\n",
       "      <td>...</td>\n",
       "      <td>...</td>\n",
       "      <td>...</td>\n",
       "      <td>...</td>\n",
       "      <td>...</td>\n",
       "    </tr>\n",
       "    <tr>\n",
       "      <th>1646330</th>\n",
       "      <td>2021-08-23</td>\n",
       "      <td>Washington</td>\n",
       "      <td>New York</td>\n",
       "      <td>3375</td>\n",
       "      <td>57.0</td>\n",
       "    </tr>\n",
       "    <tr>\n",
       "      <th>1646331</th>\n",
       "      <td>2021-08-23</td>\n",
       "      <td>Wayne</td>\n",
       "      <td>New York</td>\n",
       "      <td>6174</td>\n",
       "      <td>74.0</td>\n",
       "    </tr>\n",
       "    <tr>\n",
       "      <th>1646332</th>\n",
       "      <td>2021-08-23</td>\n",
       "      <td>Westchester</td>\n",
       "      <td>New York</td>\n",
       "      <td>135599</td>\n",
       "      <td>2303.0</td>\n",
       "    </tr>\n",
       "    <tr>\n",
       "      <th>1646333</th>\n",
       "      <td>2021-08-23</td>\n",
       "      <td>Wyoming</td>\n",
       "      <td>New York</td>\n",
       "      <td>3673</td>\n",
       "      <td>53.0</td>\n",
       "    </tr>\n",
       "    <tr>\n",
       "      <th>1646334</th>\n",
       "      <td>2021-08-23</td>\n",
       "      <td>Yates</td>\n",
       "      <td>New York</td>\n",
       "      <td>1226</td>\n",
       "      <td>26.0</td>\n",
       "    </tr>\n",
       "  </tbody>\n",
       "</table>\n",
       "<p>1682 rows × 5 columns</p>\n",
       "</div>"
      ],
      "text/plain": [
       "               date       county     state   cases  deaths\n",
       "1555320  2021-07-26       Albany  New York   24924   358.0\n",
       "1555321  2021-07-26     Allegany  New York    3576    87.0\n",
       "1555322  2021-07-26       Broome  New York   18755   367.0\n",
       "1555323  2021-07-26  Cattaraugus  New York    5766    93.0\n",
       "1555324  2021-07-26       Cayuga  New York    6396    92.0\n",
       "...             ...          ...       ...     ...     ...\n",
       "1646330  2021-08-23   Washington  New York    3375    57.0\n",
       "1646331  2021-08-23        Wayne  New York    6174    74.0\n",
       "1646332  2021-08-23  Westchester  New York  135599  2303.0\n",
       "1646333  2021-08-23      Wyoming  New York    3673    53.0\n",
       "1646334  2021-08-23        Yates  New York    1226    26.0\n",
       "\n",
       "[1682 rows x 5 columns]"
      ]
     },
     "execution_count": 8,
     "metadata": {},
     "output_type": "execute_result"
    }
   ],
   "source": [
    "df.loc[df['state'] == 'New York']"
   ]
  },
  {
   "cell_type": "code",
   "execution_count": 9,
   "id": "871022dd",
   "metadata": {},
   "outputs": [
    {
     "name": "stdout",
     "output_type": "stream",
     "text": [
      "date      2021-07-262021-07-262021-07-262021-07-262021-0...\n",
      "county    AlbanyAlleganyBroomeCattaraugusCayugaChautauqu...\n",
      "state     New YorkNew YorkNew YorkNew YorkNew YorkNew Yo...\n",
      "cases                                              63256782\n",
      "deaths                                            1548378.0\n",
      "dtype: object\n"
     ]
    }
   ],
   "source": [
    "#Sum of cases and deaths for New York\n",
    "\n",
    "df_NY= df.loc[df['state'] == 'New York']\n",
    "\n",
    "print(df_NY.sum())\n"
   ]
  },
  {
   "cell_type": "code",
   "execution_count": 19,
   "id": "f4970170",
   "metadata": {},
   "outputs": [
    {
     "data": {
      "text/plain": [
       "<AxesSubplot:xlabel='state', ylabel='cases'>"
      ]
     },
     "execution_count": 19,
     "metadata": {},
     "output_type": "execute_result"
    },
    {
     "data": {
      "image/png": "[encoded data removed]",
      "text/plain": [
       "<Figure size 432x288 with 1 Axes>"
      ]
     },
     "metadata": {
      "needs_background": "light"
     },
     "output_type": "display_data"
    }
   ],
   "source": [
    "#Bar plot for cases in New York\n",
    "\n",
    "sns.barplot(x=\"state\", y=\"cases\", data=df_NY)"
   ]
  },
  {
   "cell_type": "code",
   "execution_count": 16,
   "id": "1084f447",
   "metadata": {},
   "outputs": [
    {
     "data": {
      "text/plain": [
       "<AxesSubplot:xlabel='state', ylabel='deaths'>"
      ]
     },
     "execution_count": 16,
     "metadata": {},
     "output_type": "execute_result"
    },
    {
     "data": {
      "image/png": "[encoded data removed]",
      "text/plain": [
       "<Figure size 432x288 with 1 Axes>"
      ]
     },
     "metadata": {
      "needs_background": "light"
     },
     "output_type": "display_data"
    }
   ],
   "source": [
    "#Bar plot for deaths in New York\n",
    "\n",
    "sns.barplot(x=\"state\", y=\"deaths\", data=df_NY)"
   ]
  },
  {
   "cell_type": "code",
   "execution_count": 12,
   "id": "8bb2a13d",
   "metadata": {},
   "outputs": [
    {
     "name": "stdout",
     "output_type": "stream",
     "text": [
      "date      2021-07-262021-07-262021-07-262021-07-262021-0...\n",
      "county    AndersonAndrewsAngelinaAransasArcherArmstrongA...\n",
      "state     TexasTexasTexasTexasTexasTexasTexasTexasTexasT...\n",
      "cases                                              94521116\n",
      "deaths                                            1568636.0\n",
      "dtype: object\n"
     ]
    }
   ],
   "source": [
    "#Sum of cases and deaths for Texas\n",
    "\n",
    "df_TX= df.loc[df['state'] == 'Texas']\n",
    "\n",
    "print(df_TX.sum())"
   ]
  },
  {
   "cell_type": "code",
   "execution_count": 13,
   "id": "91277b1d",
   "metadata": {},
   "outputs": [
    {
     "data": {
      "text/plain": [
       "<AxesSubplot:xlabel='state', ylabel='cases'>"
      ]
     },
     "execution_count": 13,
     "metadata": {},
     "output_type": "execute_result"
    },
    {
     "data": {
      "image/png": "[encoded data removed]",
      "text/plain": [
       "<Figure size 432x288 with 1 Axes>"
      ]
     },
     "metadata": {
      "needs_background": "light"
     },
     "output_type": "display_data"
    }
   ],
   "source": [
    "#Bar plot for cases in Texas\n",
    "\n",
    "sns.barplot(x=\"state\", y=\"cases\", data=df_TX)"
   ]
  },
  {
   "cell_type": "code",
   "execution_count": 14,
   "id": "dfd46cb2",
   "metadata": {},
   "outputs": [
    {
     "data": {
      "text/plain": [
       "<AxesSubplot:xlabel='state', ylabel='deaths'>"
      ]
     },
     "execution_count": 14,
     "metadata": {},
     "output_type": "execute_result"
    },
    {
     "data": {
      "image/png": "[encoded data removed]",
      "text/plain": [
       "<Figure size 432x288 with 1 Axes>"
      ]
     },
     "metadata": {
      "needs_background": "light"
     },
     "output_type": "display_data"
    }
   ],
   "source": [
    "#Bar plot for deaths in Texas\n",
    "\n",
    "sns.barplot(x=\"state\", y=\"deaths\", data=df_TX)"
   ]
  },
  {
   "cell_type": "code",
   "execution_count": 15,
   "id": "fc3d8230",
   "metadata": {},
   "outputs": [
    {
     "name": "stdout",
     "output_type": "stream",
     "text": [
      "Conclusion:\n",
      "\n",
      "In 30 days the sum of Covid-19 cases for New York is: 63256782\n",
      "In 30 days the sum of Coivd-19 deaths for New York is: 1548378\n",
      "\n",
      "\n",
      "In 30 days the sum of Covid-19 cases for Texas is: 94521116\n",
      "In 30 days the sum of COvid-19 deaths for Texas is:1568636\n",
      "\n",
      "Overall, Texas has a higher sum of cases and deaths due to Covid-19 compared to New York.\n"
     ]
    }
   ],
   "source": [
    "# Conclusion:\n",
    "\n",
    "print('Conclusion:\\n')\n",
    "\n",
    "print('In 30 days the sum of Covid-19 cases for New York is: 63256782\\n' + 'In 30 days the sum of Coivd-19 deaths for New York is: 1548378\\n')\n",
    "\n",
    "print('\\nIn 30 days the sum of Covid-19 cases for Texas is: 94521116\\n' + 'In 30 days the sum of COvid-19 deaths for Texas is:1568636\\n'+\n",
    "'\\nOverall, Texas has a higher sum of cases and deaths due to Covid-19 compared to New York.')"
   ]
  },
  {
   "cell_type": "code",
   "execution_count": null,
   "id": "c65f3c23",
   "metadata": {},
   "outputs": [],
   "source": []
  }
 ],
 "metadata": {
  "kernelspec": {
   "display_name": "Python 3",
   "language": "python",
   "name": "python3"
  },
  "language_info": {
   "codemirror_mode": {
    "name": "ipython",
    "version": 3
   },
   "file_extension": ".py",
   "mimetype": "text/x-python",
   "name": "python",
   "nbconvert_exporter": "python",
   "pygments_lexer": "ipython3",
   "version": "3.8.8"
  }
 },
 "nbformat": 4,
 "nbformat_minor": 5
}
